{
 "cells": [
  {
   "cell_type": "markdown",
   "id": "e179434f",
   "metadata": {},
   "source": [
    "# TensorFlow Hello World\n",
    "\n",
    "Tensor flow uses the commands as [graph](https://github.com/tensorflow/docs/blob/master/site/en/guide/intro_to_graphs.ipynb). This demo demonstrates this:"
   ]
  },
  {
   "cell_type": "code",
   "execution_count": 1,
   "id": "6219ab1c",
   "metadata": {},
   "outputs": [],
   "source": [
    "import tensorflow as tf"
   ]
  },
  {
   "cell_type": "code",
   "execution_count": 2,
   "id": "a5048282",
   "metadata": {},
   "outputs": [
    {
     "name": "stdout",
     "output_type": "stream",
     "text": [
      "[]\n",
      "[<tf.Operation 'a' type=Const>]\n",
      "[<tf.Operation 'a' type=Const>, <tf.Operation 'b' type=Placeholder>]\n",
      "[<tf.Operation 'a' type=Const>, <tf.Operation 'b' type=Placeholder>, <tf.Operation 'c' type=Mul>]\n",
      "[<tf.Operation 'a' type=Const>, <tf.Operation 'b' type=Placeholder>, <tf.Operation 'c' type=Mul>, <tf.Operation 'd/y' type=Const>, <tf.Operation 'd' type=Add>]\n",
      "[[110 120 130]\n",
      " [140 150 160]\n",
      " [170 180 190]]\n"
     ]
    }
   ],
   "source": [
    "g = tf.Graph()\n",
    "\n",
    "with g.as_default():\n",
    "    operations = g.get_operations()\n",
    "    print(operations)\n",
    "    \n",
    "    a = tf.compat.v1.constant(10, name='a')\n",
    "    operations = g.get_operations()\n",
    "    print(operations)\n",
    "    \n",
    "    b = tf.compat.v1.placeholder(tf.int32, name='b')\n",
    "    operations = g.get_operations()\n",
    "    print(operations)\n",
    "    \n",
    "    c = tf.multiply(a, b, name='c')\n",
    "    operations = g.get_operations()\n",
    "    print(operations)\n",
    "    \n",
    "    d = tf.add(c, 100, name='d')\n",
    "    operations = g.get_operations()\n",
    "    print(operations)\n",
    "    \n",
    "    # This values we need to pass to placeholder\n",
    "    v_for_b = {b:[\n",
    "        [1, 2, 3],\n",
    "        [4, 5, 6],\n",
    "        [7, 8, 9]\n",
    "    ]}\n",
    "    \n",
    "    with tf.compat.v1.Session() as sess:\n",
    "        result = sess.run(d, feed_dict=v_for_b)\n",
    "print(result)    \n",
    "    "
   ]
  },
  {
   "cell_type": "code",
   "execution_count": null,
   "id": "e2d25198",
   "metadata": {},
   "outputs": [],
   "source": []
  }
 ],
 "metadata": {
  "kernelspec": {
   "display_name": "Python 3",
   "language": "python",
   "name": "python3"
  },
  "language_info": {
   "codemirror_mode": {
    "name": "ipython",
    "version": 3
   },
   "file_extension": ".py",
   "mimetype": "text/x-python",
   "name": "python",
   "nbconvert_exporter": "python",
   "pygments_lexer": "ipython3",
   "version": "3.6.3"
  }
 },
 "nbformat": 4,
 "nbformat_minor": 5
}
